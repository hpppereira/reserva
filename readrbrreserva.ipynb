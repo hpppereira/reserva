{
 "cells": [
  {
   "cell_type": "markdown",
   "metadata": {},
   "source": [
    "# Processamento dos dados do sensor de pressao RBR\n",
    "na laje do sheraton no periodo de novembro/2016\n",
    "\n",
    "AtmosMarine"
   ]
  },
  {
   "cell_type": "code",
   "execution_count": 1,
   "metadata": {
    "collapsed": false
   },
   "outputs": [],
   "source": [
    "import os\n",
    "import pandas as pd\n",
    "import numpy as np\n",
    "import matplotlib.pylab as pl\n",
    "from waveproc import WaveProc\n",
    "%matplotlib qt"
   ]
  },
  {
   "cell_type": "code",
   "execution_count": 17,
   "metadata": {
    "collapsed": true
   },
   "outputs": [],
   "source": [
    "pathname = os.environ['HOME'] + '/Dropbox/atmosmarine/data/lajesheraton/Swell_reserva_201611/'\n",
    "\n",
    "filename = 'Swell_reserva_201611_data.txt'\n",
    "\n",
    "dd1 = pd.read_table(pathname + filename, sep=',', header=0, names=['date', 'pr', 'spr', 'dp'],\n",
    "                   index_col='date', parse_dates=True)\n",
    "\n",
    "#periodo de funcionamento do sensor\n",
    "dd = dd1['2016-10-28 21:00':'2016-10-29 23:00']\n",
    "dd2 = dd1['2016-11-05 21:00':'2016-11-06 23:00']"
   ]
  },
  {
   "cell_type": "code",
   "execution_count": 190,
   "metadata": {
    "collapsed": false
   },
   "outputs": [],
   "source": [
    "w = WaveProc(pathname)\n",
    "\n",
    "d = []\n",
    "sp = []\n",
    "for i in np.arange(0,len(dd),2400):\n",
    "        \n",
    "    w.n1 = dd.pr.values[i:i+2400] - dd.pr.values[i:i+2400].mean()\n",
    "    w.n2 = w.n1\n",
    "    w.n3 = w.n1\n",
    "    w.h = w.n1.mean()\n",
    "    w.t = np.arange(0,len(w.n1)/2,0.5)\n",
    "    w.dt = w.t[3] - w.t[2]\n",
    "    w.fs = 2\n",
    "    w.nfft = int(len(w.n1) / 2)\n",
    "    \n",
    "    w.timedomain()\n",
    "    w.freqdomain()\n",
    "    \n",
    "    d.append({'date'   : dd.index[i],\n",
    "              'hs'     : w.hs,\n",
    "              'h10'    : w.h10,\n",
    "              'hmax'   : w.hmax,\n",
    "              'tmed'   : w.tmed,\n",
    "              'thmax'  : w.thmax,\n",
    "              'hm0'    : w.hm0,\n",
    "              'tp'     : w.tp,\n",
    "              'dp'     : w.dp,\n",
    "              'tzamax' : w.tzamax\n",
    "            })\n",
    "    \n",
    "    sp.append(w.sn1[:,1])\n",
    "\n",
    "df = pd.DataFrame(d)\n",
    "df = df.set_index('date')\n",
    "\n",
    "sp = np.array(sp).T"
   ]
  },
  {
   "cell_type": "code",
   "execution_count": 5,
   "metadata": {
    "collapsed": false
   },
   "outputs": [
    {
     "ename": "NameError",
     "evalue": "name 'df' is not defined",
     "output_type": "error",
     "traceback": [
      "\u001b[1;31m---------------------------------------------------------------------------\u001b[0m",
      "\u001b[1;31mNameError\u001b[0m                                 Traceback (most recent call last)",
      "\u001b[1;32m<ipython-input-5-3f1b7bfa280e>\u001b[0m in \u001b[0;36m<module>\u001b[1;34m()\u001b[0m\n\u001b[0;32m      1\u001b[0m \u001b[0mpl\u001b[0m\u001b[1;33m.\u001b[0m\u001b[0mclose\u001b[0m\u001b[1;33m(\u001b[0m\u001b[1;34m'all'\u001b[0m\u001b[1;33m)\u001b[0m\u001b[1;33m\u001b[0m\u001b[0m\n\u001b[1;32m----> 2\u001b[1;33m \u001b[0max\u001b[0m \u001b[1;33m=\u001b[0m \u001b[0mpl\u001b[0m\u001b[1;33m.\u001b[0m\u001b[0mcontourf\u001b[0m\u001b[1;33m(\u001b[0m\u001b[0mdf\u001b[0m\u001b[1;33m.\u001b[0m\u001b[0mindex\u001b[0m\u001b[1;33m,\u001b[0m \u001b[0mw\u001b[0m\u001b[1;33m.\u001b[0m\u001b[0msn1\u001b[0m\u001b[1;33m[\u001b[0m\u001b[1;33m:\u001b[0m\u001b[1;33m,\u001b[0m\u001b[1;36m0\u001b[0m\u001b[1;33m]\u001b[0m\u001b[1;33m,\u001b[0m \u001b[0msp\u001b[0m\u001b[1;33m,\u001b[0m \u001b[1;36m100\u001b[0m\u001b[1;33m)\u001b[0m\u001b[1;33m\u001b[0m\u001b[0m\n\u001b[0m\u001b[0;32m      3\u001b[0m \u001b[0mpl\u001b[0m\u001b[1;33m.\u001b[0m\u001b[0mylim\u001b[0m\u001b[1;33m(\u001b[0m\u001b[0mw\u001b[0m\u001b[1;33m.\u001b[0m\u001b[0msn1\u001b[0m\u001b[1;33m[\u001b[0m\u001b[1;36m0\u001b[0m\u001b[1;33m,\u001b[0m\u001b[1;36m0\u001b[0m\u001b[1;33m]\u001b[0m\u001b[1;33m,\u001b[0m\u001b[1;36m0.1\u001b[0m\u001b[1;33m)\u001b[0m\u001b[1;33m\u001b[0m\u001b[0m\n\u001b[0;32m      4\u001b[0m \u001b[0mpl\u001b[0m\u001b[1;33m.\u001b[0m\u001b[0mylabel\u001b[0m\u001b[1;33m(\u001b[0m\u001b[1;34m'Freq. (Hz)'\u001b[0m\u001b[1;33m)\u001b[0m\u001b[1;33m\u001b[0m\u001b[0m\n\u001b[0;32m      5\u001b[0m \u001b[0mcbar\u001b[0m \u001b[1;33m=\u001b[0m \u001b[0mpl\u001b[0m\u001b[1;33m.\u001b[0m\u001b[0mcolorbar\u001b[0m\u001b[1;33m(\u001b[0m\u001b[1;33m)\u001b[0m\u001b[1;33m\u001b[0m\u001b[0m\n",
      "\u001b[1;31mNameError\u001b[0m: name 'df' is not defined"
     ]
    }
   ],
   "source": [
    "pl.close('all')\n",
    "ax = pl.contourf(df.index, w.sn1[:,0], sp, 100)\n",
    "pl.ylim(w.sn1[0,0],0.1)\n",
    "pl.ylabel('Freq. (Hz)')\n",
    "cbar = pl.colorbar()\n",
    "cbar.ax.set_ylabel('m2/Hz', rotation=270)"
   ]
  },
  {
   "cell_type": "code",
   "execution_count": 22,
   "metadata": {
    "collapsed": false
   },
   "outputs": [],
   "source": [
    "pl.hist(dd.pr-dd.pr.mean(), 50)\n",
    "pl.hist(dd2.pr-dd2.pr.mean(), 50)\n",
    "pl.xlim(-4,4)\n",
    "pl.grid()"
   ]
  },
  {
   "cell_type": "code",
   "execution_count": 20,
   "metadata": {
    "collapsed": false
   },
   "outputs": [
    {
     "data": {
      "text/plain": [
       "((187320, 3), (187320, 3))"
      ]
     },
     "execution_count": 20,
     "metadata": {},
     "output_type": "execute_result"
    }
   ],
   "source": [
    "dd.shape, dd2.shape"
   ]
  },
  {
   "cell_type": "code",
   "execution_count": 171,
   "metadata": {
    "collapsed": false
   },
   "outputs": [
    {
     "data": {
      "text/plain": [
       "[<matplotlib.lines.Line2D at 0x7f150f307748>]"
      ]
     },
     "execution_count": 171,
     "metadata": {},
     "output_type": "execute_result"
    }
   ],
   "source": [
    "pl.plot(w.sn1[:,0], w.sn1[:,1])"
   ]
  },
  {
   "cell_type": "code",
   "execution_count": 145,
   "metadata": {
    "collapsed": false
   },
   "outputs": [
    {
     "data": {
      "text/plain": [
       "<matplotlib.text.Text at 0x7f158b58c748>"
      ]
     },
     "execution_count": 145,
     "metadata": {},
     "output_type": "execute_result"
    }
   ],
   "source": [
    "pl.close('all')\n",
    "pl.plot(df.index, df.hm0, df.index, df.hs)\n",
    "pl.legend(['hm0', 'hs'], loc=2)\n",
    "pl.ylabel('Metros')\n",
    "pl.grid()\n",
    "pl.twinx()\n",
    "pl.plot(df.index, df.tp,'r.')\n",
    "pl.legend(['tp'], loc=1)\n",
    "pl.ylabel('Segundos')"
   ]
  }
 ],
 "metadata": {
  "anaconda-cloud": {},
  "kernelspec": {
   "display_name": "Python 3",
   "language": "python",
   "name": "python3"
  },
  "language_info": {
   "codemirror_mode": {
    "name": "ipython",
    "version": 3
   },
   "file_extension": ".py",
   "mimetype": "text/x-python",
   "name": "python",
   "nbconvert_exporter": "python",
   "pygments_lexer": "ipython3",
   "version": "3.6.0"
  }
 },
 "nbformat": 4,
 "nbformat_minor": 0
}
