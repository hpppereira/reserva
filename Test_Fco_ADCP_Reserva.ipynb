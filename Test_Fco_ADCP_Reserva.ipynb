{
 "cells": [
  {
   "cell_type": "markdown",
   "metadata": {},
   "source": [
    "# Leitura dos Dados do Sensor RBR na praia da Reserva Test Francisco"
   ]
  },
  {
   "cell_type": "code",
   "execution_count": 1,
   "metadata": {
    "collapsed": false
   },
   "outputs": [],
   "source": [
    "# import libraries\n",
    "\n",
    "import os\n",
    "import numpy as np\n",
    "import pylab as pl\n",
    "import datetime as dt\n",
    "import proconda\n",
    "import jonswap\n",
    "import espec\n",
    "import pandas as pd\n",
    "%matplotlib inline"
   ]
  },
  {
   "cell_type": "code",
   "execution_count": 3,
   "metadata": {
    "collapsed": false
   },
   "outputs": [],
   "source": [
    "pathname = 'C:\\\\Users\\\\Francisco\\\\Dropbox\\\\nemes\\\\data\\\\ADCP_Reef_Reserva\\\\'"
   ]
  },
  {
   "cell_type": "code",
   "execution_count": 4,
   "metadata": {
    "collapsed": false
   },
   "outputs": [
    {
     "data": {
      "text/plain": [
       "array(['20131122', '20150701', '20150720', '20150729', '20150805',\n",
       "       '20150910', '20150915', '20150916', '20151014', '20151111',\n",
       "       '20151120', '20151214', '20151221', '20160113', '20160128'], \n",
       "      dtype='<U8')"
      ]
     },
     "execution_count": 4,
     "metadata": {},
     "output_type": "execute_result"
    }
   ],
   "source": [
    "lista = np.sort(os.listdir(pathname))\n",
    "lista \n",
    "# lista os dir, e coloca em ordem , blz"
   ]
  },
  {
   "cell_type": "code",
   "execution_count": 5,
   "metadata": {
    "collapsed": false
   },
   "outputs": [
    {
     "data": {
      "text/plain": [
       "array(['ADCP', 'ADCP_REEF_05-08-2015.a1', 'ADCP_REEF_05-08-2015.a2',\n",
       "       'ADCP_REEF_05-08-2015.a3', 'ADCP_REEF_05-08-2015.csv',\n",
       "       'ADCP_REEF_05-08-2015.dat', 'ADCP_REEF_05-08-2015.hdr',\n",
       "       'ADCP_REEF_05-08-2015.nmea', 'ADCP_REEF_05-08-2015.sen',\n",
       "       'ADCP_REEF_05-08-2015.ssl', 'ADCP_REEF_05-08-2015.v1',\n",
       "       'ADCP_REEF_05-08-2015.v2', 'ADCP_REEF_05-08-2015.v3',\n",
       "       'ADCP_REEF_05-08-2015.wad', 'ADCP_REEF_05-08-2015.whd',\n",
       "       'ADCP_REEF_05-08-2015000.wad', 'ADCP_REEF_05-08-2015001.wad',\n",
       "       'ADCP_REEF_05-08-2015002.wad', 'ADCP_REEF_05-08-2015003.wad',\n",
       "       'ADCP_REEF_05-08-2015004.wad', 'ADCP_REEF_05-08-2015005.wad',\n",
       "       'ADCP_REEF_05-08-2015006.wad', 'ADCP_REEF_05-08-2015007.wad',\n",
       "       'ADCP_REEF_05-08-2015008.wad', 'ADCP_REEF_05-08-2015009.wad',\n",
       "       'ADCP_REEF_05-08-2015010.wad', 'ADCP_REEF_05-08-2015011.wad',\n",
       "       'ADCP_REEF_05-08-2015012.wad', 'ADCP_REEF_05-08-2015013.wad',\n",
       "       'ADCP_REEF_05-08-2015014.wad', 'ADCP_REEF_05-08-2015015.wad',\n",
       "       'ADCP_REEF_05-08-2015016.wad', 'ADCP_REEF_05-08-2015017.wad',\n",
       "       'ADCP_REEF_05-08-2015018.wad', 'ADCP_REEF_05-08-2015019.wad',\n",
       "       'ADCP_REEF_05-08-2015020.wad', 'ADCP_REEF_05-08-2015021.wad',\n",
       "       'ADCP_REEF_05-08-2015022.wad', 'ADCP_REEF_05-08-2015023.wad',\n",
       "       'ADCP_REEF_05-08-2015024.wad', 'ADCP_REEF_05-08-2015025.wad',\n",
       "       'ADCP_REEF_05-08-2015026.wad', 'ADCP_REEF_05-08-2015027.wad',\n",
       "       'ADCP_REEF_05-08-2015028.wad', 'ADCP_REEF_05-08-2015029.wad',\n",
       "       'ADCP_REEF_05-08-2015030.wad', 'ADCP_REEF_05-08-2015031.wad',\n",
       "       'ADCP_REEF_05-08-2015032.wad', 'ADCP_REEF_05-08-2015033.wad',\n",
       "       'ADCP_REEF_05-08-2015034.wad', 'ADCP_REEF_05-08-2015035.wad',\n",
       "       'ADCP_REEF_05-08-2015036.wad', 'ADCP_REEF_05-08-2015037.wad',\n",
       "       'ADCP_REEF_05-08-2015038.wad', 'ADCP_REEF_05-08-2015039.wad',\n",
       "       'ADCP_REEF_05-08-2015040.wad', 'ADCP_REEF_05-08-2015041.wad',\n",
       "       'ADV_burst_17_e_18_bons_pois_muita_onda'], \n",
       "      dtype='<U38')"
      ]
     },
     "execution_count": 5,
     "metadata": {},
     "output_type": "execute_result"
    }
   ],
   "source": [
    "dayf = lista[4]\n",
    "listarq = np.sort(os.listdir(pathname + dayf))\n",
    "listarq\n",
    "# Pegando o dir 4 e listando, blz, "
   ]
  },
  {
   "cell_type": "code",
   "execution_count": 6,
   "metadata": {
    "collapsed": true
   },
   "outputs": [],
   "source": [
    "dateparse = lambda x: pd.datetime.strptime(x,'%m %d %Y %H %M %S')\n",
    "# transforma as datas automaticamente ao ler o dado, blz"
   ]
  },
  {
   "cell_type": "code",
   "execution_count": 7,
   "metadata": {
    "collapsed": false
   },
   "outputs": [
    {
     "name": "stdout",
     "output_type": "stream",
     "text": [
      "ADCP_REEF_05-08-2015.wad\n"
     ]
    }
   ],
   "source": [
    "# leitura dos dados (a1, sen, v1, v2, v3, whd, wad) \n",
    "\n",
    "for i in range(len(listarq)):\n",
    "\n",
    "    if listarq[i].endswith(dayf[0:4] + '.a1'):\n",
    "        a1 = pd.read_table(pathname + dayf + '/' + listarq[i], sep='\\s+')\n",
    "\n",
    "    elif listarq[i].endswith(dayf[0:4] + '.sen'):\n",
    "        sen = pd.read_table(pathname + dayf + '/' + listarq[i], sep='\\s+', header=None, parse_dates=[[0,1,2,3,4,5]], date_parser=dateparse,\n",
    "            index_col='mo_dy_yr_hr_mn_sec',\n",
    "            names=['mo','dy','yr','hr','mn','sec','er_code','st_code','bat','soudspd','head','pitch','roll','pres','temp','anin1','anin2'])\n",
    "\n",
    "    elif listarq[i].endswith(dayf[0:4] + '.v1'):\n",
    "        v1 = pd.read_table(pathname + dayf + '/' + listarq[i], sep='\\s+', header=None, names=['c1','c2','c3','c4','c5','c6'])\n",
    "\n",
    "    elif listarq[i].endswith(dayf[0:4] + '.v2'):\n",
    "        v2 = pd.read_table(pathname + dayf + '/' + listarq[i], sep='\\s+', header=None, names=['c1','c2','c3','c4','c5','c6'])\n",
    "\n",
    "    elif listarq[i].endswith(dayf[0:4] + '.v3'):\n",
    "        v3 = pd.read_table(pathname + dayf + '/' + listarq[i], sep='\\s+', header=None, names=['c1','c2','c3','c4','c5','c6'])\n",
    "\n",
    "    elif listarq[i].endswith(dayf[0:4] + '.whd'):\n",
    "        whd = pd.read_table(pathname + dayf + '/' + listarq[i], sep='\\s+', header=None, parse_dates=[[0,1,2,3,4,5]], date_parser=dateparse, \n",
    "            index_col='mo_dy_yr_hr_mn_sec',\n",
    "            names=['mo','dy','yr','hr','mn','sec','burstc','nodata','celpos','bat','soudspd','head','pitch','roll','minpres',\n",
    "            'maxpres','temp','celsize','namp1','namp2','namp3','namp4','astst','astsz','astof'])\n",
    "\n",
    "    elif listarq[i].endswith(dayf[0:4] + '.wad'):\n",
    "        print (listarq[i])\n",
    "        wad = pd.read_table(pathname + dayf + '/' + listarq[i], sep='\\s+', header=None, index_col=False,\n",
    "            names=['burst','count','pres','spare','analog','vxe','vyn','vzu','amp1','amp2','amp3','ampna'])"
   ]
  },
  {
   "cell_type": "code",
   "execution_count": 8,
   "metadata": {
    "collapsed": false
   },
   "outputs": [
    {
     "data": {
      "image/png": "[encoded data removed]",
      "text/plain": [
       "<matplotlib.figure.Figure at 0x22c78ce9dd8>"
      ]
     },
     "metadata": {},
     "output_type": "display_data"
    }
   ],
   "source": [
    "# para plotar por fora: %matplotlib qt5\n",
    "sen[['pres','temp']].plot()# entao o que coloque antes do plot ele plota, blz,\n",
    "pl.show()"
   ]
  },
  {
   "cell_type": "code",
   "execution_count": 8,
   "metadata": {
    "collapsed": false
   },
   "outputs": [
    {
     "data": {
      "text/html": [
       "<div>\n",
       "<table border=\"1\" class=\"dataframe\">\n",
       "  <thead>\n",
       "    <tr style=\"text-align: right;\">\n",
       "      <th></th>\n",
       "      <th>er_code</th>\n",
       "      <th>st_code</th>\n",
       "      <th>bat</th>\n",
       "      <th>soudspd</th>\n",
       "      <th>head</th>\n",
       "      <th>pitch</th>\n",
       "      <th>roll</th>\n",
       "      <th>pres</th>\n",
       "      <th>temp</th>\n",
       "      <th>anin1</th>\n",
       "      <th>anin2</th>\n",
       "    </tr>\n",
       "  </thead>\n",
       "  <tbody>\n",
       "    <tr>\n",
       "      <th>count</th>\n",
       "      <td>42.0</td>\n",
       "      <td>4.200000e+01</td>\n",
       "      <td>42.000000</td>\n",
       "      <td>42.000000</td>\n",
       "      <td>42.000000</td>\n",
       "      <td>42.000000</td>\n",
       "      <td>42.000000</td>\n",
       "      <td>42.000000</td>\n",
       "      <td>42.000000</td>\n",
       "      <td>42.0</td>\n",
       "      <td>42.0</td>\n",
       "    </tr>\n",
       "    <tr>\n",
       "      <th>mean</th>\n",
       "      <td>0.0</td>\n",
       "      <td>1.111000e+07</td>\n",
       "      <td>12.595238</td>\n",
       "      <td>1529.397619</td>\n",
       "      <td>281.583333</td>\n",
       "      <td>-4.930952</td>\n",
       "      <td>-4.357143</td>\n",
       "      <td>2.060786</td>\n",
       "      <td>23.000476</td>\n",
       "      <td>0.0</td>\n",
       "      <td>0.0</td>\n",
       "    </tr>\n",
       "    <tr>\n",
       "      <th>std</th>\n",
       "      <td>0.0</td>\n",
       "      <td>1.543033e-01</td>\n",
       "      <td>0.069677</td>\n",
       "      <td>0.925120</td>\n",
       "      <td>60.828102</td>\n",
       "      <td>3.855214</td>\n",
       "      <td>2.545311</td>\n",
       "      <td>0.601604</td>\n",
       "      <td>0.361501</td>\n",
       "      <td>0.0</td>\n",
       "      <td>0.0</td>\n",
       "    </tr>\n",
       "    <tr>\n",
       "      <th>min</th>\n",
       "      <td>0.0</td>\n",
       "      <td>1.111000e+07</td>\n",
       "      <td>12.500000</td>\n",
       "      <td>1525.500000</td>\n",
       "      <td>17.100000</td>\n",
       "      <td>-28.400000</td>\n",
       "      <td>-5.600000</td>\n",
       "      <td>0.000000</td>\n",
       "      <td>21.470000</td>\n",
       "      <td>0.0</td>\n",
       "      <td>0.0</td>\n",
       "    </tr>\n",
       "    <tr>\n",
       "      <th>25%</th>\n",
       "      <td>0.0</td>\n",
       "      <td>1.111000e+07</td>\n",
       "      <td>12.525000</td>\n",
       "      <td>1528.950000</td>\n",
       "      <td>296.725000</td>\n",
       "      <td>-4.775000</td>\n",
       "      <td>-5.075000</td>\n",
       "      <td>2.046250</td>\n",
       "      <td>22.845000</td>\n",
       "      <td>0.0</td>\n",
       "      <td>0.0</td>\n",
       "    </tr>\n",
       "    <tr>\n",
       "      <th>50%</th>\n",
       "      <td>0.0</td>\n",
       "      <td>1.111000e+07</td>\n",
       "      <td>12.600000</td>\n",
       "      <td>1529.750000</td>\n",
       "      <td>297.400000</td>\n",
       "      <td>-4.700000</td>\n",
       "      <td>-4.900000</td>\n",
       "      <td>2.189000</td>\n",
       "      <td>23.100000</td>\n",
       "      <td>0.0</td>\n",
       "      <td>0.0</td>\n",
       "    </tr>\n",
       "    <tr>\n",
       "      <th>75%</th>\n",
       "      <td>0.0</td>\n",
       "      <td>1.111000e+07</td>\n",
       "      <td>12.600000</td>\n",
       "      <td>1529.900000</td>\n",
       "      <td>297.500000</td>\n",
       "      <td>-4.350000</td>\n",
       "      <td>-4.825000</td>\n",
       "      <td>2.372500</td>\n",
       "      <td>23.227500</td>\n",
       "      <td>0.0</td>\n",
       "      <td>0.0</td>\n",
       "    </tr>\n",
       "    <tr>\n",
       "      <th>max</th>\n",
       "      <td>0.0</td>\n",
       "      <td>1.111000e+07</td>\n",
       "      <td>12.700000</td>\n",
       "      <td>1530.300000</td>\n",
       "      <td>298.000000</td>\n",
       "      <td>1.600000</td>\n",
       "      <td>9.400000</td>\n",
       "      <td>2.506000</td>\n",
       "      <td>23.370000</td>\n",
       "      <td>0.0</td>\n",
       "      <td>0.0</td>\n",
       "    </tr>\n",
       "  </tbody>\n",
       "</table>\n",
       "</div>"
      ],
      "text/plain": [
       "       er_code       st_code        bat      soudspd        head      pitch  \\\n",
       "count     42.0  4.200000e+01  42.000000    42.000000   42.000000  42.000000   \n",
       "mean       0.0  1.111000e+07  12.595238  1529.397619  281.583333  -4.930952   \n",
       "std        0.0  1.543033e-01   0.069677     0.925120   60.828102   3.855214   \n",
       "min        0.0  1.111000e+07  12.500000  1525.500000   17.100000 -28.400000   \n",
       "25%        0.0  1.111000e+07  12.525000  1528.950000  296.725000  -4.775000   \n",
       "50%        0.0  1.111000e+07  12.600000  1529.750000  297.400000  -4.700000   \n",
       "75%        0.0  1.111000e+07  12.600000  1529.900000  297.500000  -4.350000   \n",
       "max        0.0  1.111000e+07  12.700000  1530.300000  298.000000   1.600000   \n",
       "\n",
       "            roll       pres       temp  anin1  anin2  \n",
       "count  42.000000  42.000000  42.000000   42.0   42.0  \n",
       "mean   -4.357143   2.060786  23.000476    0.0    0.0  \n",
       "std     2.545311   0.601604   0.361501    0.0    0.0  \n",
       "min    -5.600000   0.000000  21.470000    0.0    0.0  \n",
       "25%    -5.075000   2.046250  22.845000    0.0    0.0  \n",
       "50%    -4.900000   2.189000  23.100000    0.0    0.0  \n",
       "75%    -4.825000   2.372500  23.227500    0.0    0.0  \n",
       "max     9.400000   2.506000  23.370000    0.0    0.0  "
      ]
     },
     "execution_count": 8,
     "metadata": {},
     "output_type": "execute_result"
    }
   ],
   "source": [
    "sen.describe()"
   ]
  },
  {
   "cell_type": "code",
   "execution_count": 9,
   "metadata": {
    "collapsed": false
   },
   "outputs": [
    {
     "name": "stderr",
     "output_type": "stream",
     "text": [
      "C:\\Users\\Francisco\\Anaconda3\\lib\\site-packages\\ipykernel\\__main__.py:16: SettingWithCopyWarning: \n",
      "A value is trying to be set on a copy of a slice from a DataFrame\n",
      "\n",
      "See the caveats in the documentation: http://pandas.pydata.org/pandas-docs/stable/indexing.html#indexing-view-versus-copy\n"
     ]
    }
   ],
   "source": [
    "#cria vetor de tempo para onda (intercalando as amostragens)\n",
    "wad['time'] = 0\n",
    "\n",
    "cont = 0\n",
    "cont1 = 0\n",
    "cont2 = 0 #wad.burst.loc[wad.burst == cont].shape[0]\n",
    "for i in range(len(whd)):\n",
    "\n",
    "    cont += 1\n",
    "\n",
    "    #tamanho do vetor da hora\n",
    "    cont2 = wad.burst.loc[wad.burst == cont].shape[0] + cont2\n",
    "    \n",
    "    aux = pd.date_range(whd.index[i], periods=wad.burst.loc[wad.burst == cont].shape[0], freq='500ms')\n",
    "\n",
    "    wad.time[cont1:cont2] = aux\n",
    "\n",
    "    cont1 = cont2 \n",
    "\n",
    "wad = wad.set_index('time')"
   ]
  },
  {
   "cell_type": "code",
   "execution_count": 10,
   "metadata": {
    "collapsed": false
   },
   "outputs": [
    {
     "data": {
      "image/png": "[encoded data removed]",
      "text/plain": [
       "<matplotlib.figure.Figure at 0x2a0e5017b38>"
      ]
     },
     "metadata": {},
     "output_type": "display_data"
    }
   ],
   "source": [
    "\n",
    "%matplotlib inline \n",
    "fig = pl.figure(figsize=(10,6))\n",
    "ax1 = fig.add_subplot(111)\n",
    "ax1.plot(wad.index, wad.pres)\n",
    "ax1.plot(sen.index, sen.pres)\n",
    "\n",
    "\n",
    "pl.show() \n"
   ]
  },
  {
   "cell_type": "code",
   "execution_count": null,
   "metadata": {
    "collapsed": true
   },
   "outputs": [],
   "source": []
  }
 ],
 "metadata": {
  "kernelspec": {
   "display_name": "Python 3",
   "language": "python",
   "name": "python3"
  },
  "language_info": {
   "codemirror_mode": {
    "name": "ipython",
    "version": 3
   },
   "file_extension": ".py",
   "mimetype": "text/x-python",
   "name": "python",
   "nbconvert_exporter": "python",
   "pygments_lexer": "ipython3",
   "version": "3.6.0"
  }
 },
 "nbformat": 4,
 "nbformat_minor": 2
}
