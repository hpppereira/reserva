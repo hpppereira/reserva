{
 "cells": [
  {
   "cell_type": "markdown",
   "metadata": {},
   "source": [
    "# Wave Pool Design Critera\n",
    "- AtmosMarine"
   ]
  },
  {
   "cell_type": "code",
   "execution_count": 3,
   "metadata": {
    "collapsed": true
   },
   "outputs": [],
   "source": [
    "import numpy as np"
   ]
  },
  {
   "cell_type": "markdown",
   "metadata": {},
   "source": [
    "### The parameters that define the circular track bathymetry, and therefore the wave transformation and breaking"
   ]
  },
  {
   "cell_type": "code",
   "execution_count": 1,
   "metadata": {
    "collapsed": true
   },
   "outputs": [],
   "source": [
    "# Radius of the pool outer wall (Ro)\n",
    "Ro = 200\n",
    "\n",
    "# Radius of the start of the beach (R_beach)\n",
    "\n",
    "# Lateral distance from the outer wall to the start of the beach (y_beach)\n",
    "\n",
    "# Water depth at the pool outer wall (ho)\n",
    "\n",
    "# Water depth at the start of the beach slope (h_beach)\n",
    "\n",
    "# Wave height at the start of the beach (H_beach)\n",
    "H_beach = 2 #meters\n",
    "\n",
    "# Beach slope (s) - degrees\n",
    "s = 9\n",
    "\n",
    "# Wavelength (meters) in deep water perpendicular to the orthogonal slope (L_s)\n",
    "L_s = 100\n",
    "\n",
    "# Lateral width of the beach (Y_beach)\n",
    "\n",
    "# Vertical height of start of the beach (Z_beach)\n",
    "\n",
    "\n",
    "# Blockage ratio (k)\n",
    "\n",
    "# The ratio of the cross-sectional area (As)\n",
    "\n",
    "# Channel cross-sectional area (Ac)\n",
    "\n",
    "\n"
   ]
  },
  {
   "cell_type": "code",
   "execution_count": 6,
   "metadata": {
    "collapsed": false
   },
   "outputs": [
    {
     "data": {
      "text/plain": [
       "6.1038729438072803"
      ]
     },
     "execution_count": 6,
     "metadata": {},
     "output_type": "execute_result"
    }
   ],
   "source": [
    "# Breakpoint velocity (m/s) - minimum velocity for a surfer to remain on the unbroken part of the wave\n",
    "\n",
    "# Wave speed (m/s)\n",
    "C = 5\n",
    "\n",
    "# Peel angle\n",
    "alfa_p = 55\n",
    "\n",
    "v_breakpoint = C * (1 / np.sin(np.deg2rad(alfa_p)))\n",
    "v_breakpoint\n",
    "\n"
   ]
  },
  {
   "cell_type": "code",
   "execution_count": 12,
   "metadata": {
    "collapsed": false
   },
   "outputs": [
    {
     "data": {
      "text/plain": [
       "0.96539815234132864"
      ]
     },
     "execution_count": 12,
     "metadata": {},
     "output_type": "execute_result"
    }
   ],
   "source": [
    "# Froud depth number - the ratio between the velocity U and the maximum linear wave speed in shallow water C\n",
    "\n",
    "# Velocity of the hull\n",
    "Vs = 8\n",
    "\n",
    "# Gravitational acceleration\n",
    "g = 9.81\n",
    "\n",
    "# Water depth\n",
    "h = 7\n",
    "\n",
    "# Froud depth number\n",
    "Fr = Vs / np.sqrt(g * h)\n",
    "Fr"
   ]
  },
  {
   "cell_type": "code",
   "execution_count": 15,
   "metadata": {
    "collapsed": false
   },
   "outputs": [
    {
     "data": {
      "text/plain": [
       "0.05"
      ]
     },
     "execution_count": 15,
     "metadata": {},
     "output_type": "execute_result"
    }
   ],
   "source": [
    "# The geometries of the canal and ship required for the calculation can made dimensionless\n",
    "# by defining a factor K, representing the blockage\n",
    "\n",
    "As = 4\n",
    "Ac = 80\n",
    "\n",
    "K = As / Ac\n",
    "K\n"
   ]
  },
  {
   "cell_type": "markdown",
   "metadata": {},
   "source": [
    "### Breaking intensity  (\"surf similarity parameter\")"
   ]
  },
  {
   "cell_type": "code",
   "execution_count": 48,
   "metadata": {
    "collapsed": false
   },
   "outputs": [
    {
     "name": "stdout",
     "output_type": "stream",
     "text": [
      "Iribarren number: 1.12\n",
      "Breaking type: Plunging wave\n"
     ]
    }
   ],
   "source": [
    "# Inshore Iribarren number \n",
    "iribarren_number = np.tan(np.deg2rad(s)) / np.sqrt(H_beach / L_s)\n",
    "print ('Iribarren number: %.2f' %iribarren_number)\n",
    "\n",
    "#Breaker type\n",
    "if iribarren_number < 0.4:\n",
    "    print ('Breaking type: Spilling wave')\n",
    "elif 0.4 <= iribarren_number <= 2.0:\n",
    "    print ('Breaking type: Plunging wave')\n",
    "elif iribarren_number > 2.0:\n",
    "    print ('Breaking type: Surging / Collapsing wave')"
   ]
  },
  {
   "cell_type": "markdown",
   "metadata": {},
   "source": [
    "### Surf velocity and wave celerity"
   ]
  },
  {
   "cell_type": "code",
   "execution_count": 66,
   "metadata": {
    "collapsed": false
   },
   "outputs": [
    {
     "name": "stdout",
     "output_type": "stream",
     "text": [
      "Surfer speed: 8.49 m/s\n",
      "Wave Peel rate: 6.00\n"
     ]
    }
   ],
   "source": [
    "# Wave phase speed - celerity (cp)\n",
    "cp = 6 #m/s\n",
    "# cp = np.sqrt(g * h)\n",
    "\n",
    "# Peel angle (theta_peel) - 0 (close-out) to 90 (slow wave) deg\n",
    "theta_peel = 45\n",
    "\n",
    "# Surfer's speed\n",
    "c_surfer = cp / np.sin(np.deg2rad(theta_peel))\n",
    "print ('Surfer speed: %.2f m/s' %c_surfer)\n",
    "\n",
    "# Wave peel rate (v_peel)\n",
    "v_peel = cp / np.tan(np.deg2rad(theta_peel))\n",
    "print ('Wave Peel rate: %.2f' %v_peel)"
   ]
  },
  {
   "cell_type": "markdown",
   "metadata": {},
   "source": [
    "### Wave Pool Design Parameters"
   ]
  },
  {
   "cell_type": "code",
   "execution_count": 69,
   "metadata": {
    "collapsed": false
   },
   "outputs": [
    {
     "data": {
      "text/plain": [
       "5.7723478758647246"
      ]
     },
     "execution_count": 69,
     "metadata": {},
     "output_type": "execute_result"
    }
   ],
   "source": [
    "np.sqrt(68) * 0.7"
   ]
  },
  {
   "cell_type": "code",
   "execution_count": null,
   "metadata": {
    "collapsed": true
   },
   "outputs": [],
   "source": []
  },
  {
   "cell_type": "code",
   "execution_count": null,
   "metadata": {
    "collapsed": true
   },
   "outputs": [],
   "source": []
  },
  {
   "cell_type": "code",
   "execution_count": null,
   "metadata": {
    "collapsed": true
   },
   "outputs": [],
   "source": []
  },
  {
   "cell_type": "code",
   "execution_count": null,
   "metadata": {
    "collapsed": true
   },
   "outputs": [],
   "source": []
  },
  {
   "cell_type": "code",
   "execution_count": null,
   "metadata": {
    "collapsed": true
   },
   "outputs": [],
   "source": []
  },
  {
   "cell_type": "code",
   "execution_count": null,
   "metadata": {
    "collapsed": true
   },
   "outputs": [],
   "source": []
  },
  {
   "cell_type": "code",
   "execution_count": null,
   "metadata": {
    "collapsed": true
   },
   "outputs": [],
   "source": []
  },
  {
   "cell_type": "code",
   "execution_count": null,
   "metadata": {
    "collapsed": true
   },
   "outputs": [],
   "source": []
  }
 ],
 "metadata": {
  "anaconda-cloud": {},
  "kernelspec": {
   "display_name": "Python [default]",
   "language": "python",
   "name": "python3"
  },
  "language_info": {
   "codemirror_mode": {
    "name": "ipython",
    "version": 3
   },
   "file_extension": ".py",
   "mimetype": "text/x-python",
   "name": "python",
   "nbconvert_exporter": "python",
   "pygments_lexer": "ipython3",
   "version": "3.5.2"
  }
 },
 "nbformat": 4,
 "nbformat_minor": 1
}
